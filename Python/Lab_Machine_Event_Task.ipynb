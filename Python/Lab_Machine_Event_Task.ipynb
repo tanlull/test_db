{
  "nbformat": 4,
  "nbformat_minor": 0,
  "metadata": {
    "colab": {
      "name": "Lab Machine Event Task.ipynb",
      "version": "0.3.2",
      "provenance": [],
      "collapsed_sections": []
    },
    "kernelspec": {
      "name": "python3",
      "display_name": "Python 3"
    }
  },
  "cells": [
    {
      "cell_type": "code",
      "metadata": {
        "id": "_wAahiH9MePJ",
        "colab_type": "code",
        "colab": {}
      },
      "source": [
        ""
      ],
      "execution_count": 0,
      "outputs": []
    },
    {
      "cell_type": "code",
      "metadata": {
        "id": "8I9eQeN-NLnW",
        "colab_type": "code",
        "outputId": "d5dadf3b-a0f6-46dd-c287-9030205b12e7",
        "colab": {
          "base_uri": "https://localhost:8080/",
          "height": 139
        }
      },
      "source": [
        "from google.colab import drive\n",
        "drive.mount('/gdrive')\n",
        "%cd /gdrive"
      ],
      "execution_count": 0,
      "outputs": [
        {
          "output_type": "stream",
          "text": [
            "Go to this URL in a browser: https://accounts.google.com/o/oauth2/auth?client_id=947318989803-6bn6qk8qdgf4n4g3pfee6491hc0brc4i.apps.googleusercontent.com&redirect_uri=urn%3Aietf%3Awg%3Aoauth%3A2.0%3Aoob&scope=email%20https%3A%2F%2Fwww.googleapis.com%2Fauth%2Fdocs.test%20https%3A%2F%2Fwww.googleapis.com%2Fauth%2Fdrive%20https%3A%2F%2Fwww.googleapis.com%2Fauth%2Fdrive.photos.readonly%20https%3A%2F%2Fwww.googleapis.com%2Fauth%2Fpeopleapi.readonly&response_type=code\n",
            "\n",
            "Enter your authorization code:\n",
            "··········\n",
            "Mounted at /gdrive\n",
            "/gdrive\n"
          ],
          "name": "stdout"
        }
      ]
    },
    {
      "cell_type": "markdown",
      "metadata": {
        "id": "m-t7hDcsYVEo",
        "colab_type": "text"
      },
      "source": [
        "## Load Tasks"
      ]
    },
    {
      "cell_type": "code",
      "metadata": {
        "id": "20Jm51ZmQXvk",
        "colab_type": "code",
        "outputId": "9d4883df-1d52-453d-cb56-1d9c923f4b5a",
        "colab": {
          "base_uri": "https://localhost:8080/",
          "height": 34
        }
      },
      "source": [
        "import pandas as pd\n",
        "task1 = pd.read_csv('/gdrive/My Drive/Colab Notebooks/07 Data Science Workshop/MachineEvent/task_events/part-00000-of-00500.csv'\n",
        "                      ,header=None)\n",
        "task2 = pd.read_csv('/gdrive/My Drive/Colab Notebooks/07 Data Science Workshop/MachineEvent/task_events/part-00001-of-00500.csv'\n",
        "                      ,header=None)\n",
        "task3 = pd.read_csv('/gdrive/My Drive/Colab Notebooks/07 Data Science Workshop/MachineEvent/task_events/part-00002-of-00500.csv'\n",
        "                      ,header=None)\n",
        "\n",
        "task = pd.concat([task1, task2, task3])\n",
        "task.columns = ['timestamp','missingInfo1','jobID','taskIndex','machineID','eventType','userName','schedulingClass','priority','CPUCore','RAM','Disk','Constraint']\n",
        "\n",
        "task.shape"
      ],
      "execution_count": 0,
      "outputs": [
        {
          "output_type": "execute_result",
          "data": {
            "text/plain": [
              "(688564, 13)"
            ]
          },
          "metadata": {
            "tags": []
          },
          "execution_count": 4
        }
      ]
    },
    {
      "cell_type": "code",
      "metadata": {
        "id": "TDToQWITLG5Z",
        "colab_type": "code",
        "outputId": "b8a27e62-c6f3-4ffb-f3d4-67539f48834d",
        "colab": {
          "base_uri": "https://localhost:8080/",
          "height": 241
        }
      },
      "source": [
        "task.describe().toPandas()"
      ],
      "execution_count": 0,
      "outputs": [
        {
          "output_type": "execute_result",
          "data": {
            "text/html": [
              "<div>\n",
              "<style scoped>\n",
              "    .dataframe tbody tr th:only-of-type {\n",
              "        vertical-align: middle;\n",
              "    }\n",
              "\n",
              "    .dataframe tbody tr th {\n",
              "        vertical-align: top;\n",
              "    }\n",
              "\n",
              "    .dataframe thead th {\n",
              "        text-align: right;\n",
              "    }\n",
              "</style>\n",
              "<table border=\"1\" class=\"dataframe\">\n",
              "  <thead>\n",
              "    <tr style=\"text-align: right;\">\n",
              "      <th></th>\n",
              "      <th>summary</th>\n",
              "      <th>timestamp</th>\n",
              "      <th>missingInfo</th>\n",
              "      <th>jobID</th>\n",
              "      <th>taskIndex</th>\n",
              "      <th>machineID</th>\n",
              "      <th>eventType</th>\n",
              "      <th>userName</th>\n",
              "      <th>schedulingClass</th>\n",
              "      <th>priority</th>\n",
              "      <th>CPUCore</th>\n",
              "      <th>RAM</th>\n",
              "      <th>Disk</th>\n",
              "      <th>Constraint</th>\n",
              "    </tr>\n",
              "  </thead>\n",
              "  <tbody>\n",
              "    <tr>\n",
              "      <th>0</th>\n",
              "      <td>count</td>\n",
              "      <td>688564</td>\n",
              "      <td>291</td>\n",
              "      <td>688564</td>\n",
              "      <td>688564</td>\n",
              "      <td>478080</td>\n",
              "      <td>688564</td>\n",
              "      <td>688564</td>\n",
              "      <td>688564</td>\n",
              "      <td>688564</td>\n",
              "      <td>688273</td>\n",
              "      <td>688273</td>\n",
              "      <td>688273</td>\n",
              "      <td>688273</td>\n",
              "    </tr>\n",
              "    <tr>\n",
              "      <th>1</th>\n",
              "      <td>mean</td>\n",
              "      <td>4.741422700288498E9</td>\n",
              "      <td>2.0</td>\n",
              "      <td>5.61887839161121E9</td>\n",
              "      <td>1429.0463355621264</td>\n",
              "      <td>1.27341816670675E9</td>\n",
              "      <td>1.1666047019594403</td>\n",
              "      <td>None</td>\n",
              "      <td>0.8039397935413412</td>\n",
              "      <td>2.601460430693443</td>\n",
              "      <td>0.03884034383231887</td>\n",
              "      <td>0.031075616951428263</td>\n",
              "      <td>2.805061463372262E-4</td>\n",
              "      <td>0.31396553402501626</td>\n",
              "    </tr>\n",
              "    <tr>\n",
              "      <th>2</th>\n",
              "      <td>stddev</td>\n",
              "      <td>5.43897451665724E9</td>\n",
              "      <td>0.0</td>\n",
              "      <td>1.5177704835123165E9</td>\n",
              "      <td>3322.689172042024</td>\n",
              "      <td>1.740422426362313E9</td>\n",
              "      <td>1.4951495564505684</td>\n",
              "      <td>None</td>\n",
              "      <td>1.0485087184806208</td>\n",
              "      <td>3.2407901122903358</td>\n",
              "      <td>0.04305137202379286</td>\n",
              "      <td>0.032846761644067794</td>\n",
              "      <td>3.5078801316292517E-4</td>\n",
              "      <td>0.4641028877460829</td>\n",
              "    </tr>\n",
              "    <tr>\n",
              "      <th>3</th>\n",
              "      <td>min</td>\n",
              "      <td>0</td>\n",
              "      <td>2</td>\n",
              "      <td>1005190908</td>\n",
              "      <td>0</td>\n",
              "      <td>10</td>\n",
              "      <td>0</td>\n",
              "      <td>+1FmidGvPEtSIUb/sNfYW604cEUUmyhWukDdV7QXpUI=</td>\n",
              "      <td>0</td>\n",
              "      <td>0</td>\n",
              "      <td>0</td>\n",
              "      <td>0</td>\n",
              "      <td>0</td>\n",
              "      <td>0</td>\n",
              "    </tr>\n",
              "    <tr>\n",
              "      <th>4</th>\n",
              "      <td>max</td>\n",
              "      <td>9999217125</td>\n",
              "      <td>2</td>\n",
              "      <td>986962601</td>\n",
              "      <td>9999</td>\n",
              "      <td>998338022</td>\n",
              "      <td>5</td>\n",
              "      <td>zw1n/yVS+nVzkMJvYOR68YEiqR0e1O3TVLh6u84gaQE=</td>\n",
              "      <td>3</td>\n",
              "      <td>9</td>\n",
              "      <td>0.5</td>\n",
              "      <td>6.199e-05</td>\n",
              "      <td>9.918e-05</td>\n",
              "      <td>1</td>\n",
              "    </tr>\n",
              "  </tbody>\n",
              "</table>\n",
              "</div>"
            ],
            "text/plain": [
              "  summary            timestamp missingInfo                 jobID  \\\n",
              "0   count               688564         291                688564   \n",
              "1    mean  4.741422700288498E9         2.0    5.61887839161121E9   \n",
              "2  stddev   5.43897451665724E9         0.0  1.5177704835123165E9   \n",
              "3     min                    0           2            1005190908   \n",
              "4     max           9999217125           2             986962601   \n",
              "\n",
              "            taskIndex            machineID           eventType  \\\n",
              "0              688564               478080              688564   \n",
              "1  1429.0463355621264   1.27341816670675E9  1.1666047019594403   \n",
              "2   3322.689172042024  1.740422426362313E9  1.4951495564505684   \n",
              "3                   0                   10                   0   \n",
              "4                9999            998338022                   5   \n",
              "\n",
              "                                       userName     schedulingClass  \\\n",
              "0                                        688564              688564   \n",
              "1                                          None  0.8039397935413412   \n",
              "2                                          None  1.0485087184806208   \n",
              "3  +1FmidGvPEtSIUb/sNfYW604cEUUmyhWukDdV7QXpUI=                   0   \n",
              "4  zw1n/yVS+nVzkMJvYOR68YEiqR0e1O3TVLh6u84gaQE=                   3   \n",
              "\n",
              "             priority              CPUCore                   RAM  \\\n",
              "0              688564               688273                688273   \n",
              "1   2.601460430693443  0.03884034383231887  0.031075616951428263   \n",
              "2  3.2407901122903358  0.04305137202379286  0.032846761644067794   \n",
              "3                   0                    0                     0   \n",
              "4                   9                  0.5             6.199e-05   \n",
              "\n",
              "                    Disk           Constraint  \n",
              "0                 688273               688273  \n",
              "1   2.805061463372262E-4  0.31396553402501626  \n",
              "2  3.5078801316292517E-4   0.4641028877460829  \n",
              "3                      0                    0  \n",
              "4              9.918e-05                    1  "
            ]
          },
          "metadata": {
            "tags": []
          },
          "execution_count": 9
        }
      ]
    },
    {
      "cell_type": "code",
      "metadata": {
        "id": "-k1ZJJH6RZ-y",
        "colab_type": "code",
        "outputId": "a0e04304-3c35-4f35-e888-526bceb0f545",
        "colab": {
          "base_uri": "https://localhost:8080/",
          "height": 136
        }
      },
      "source": [
        "task.eventType.value_counts()"
      ],
      "execution_count": 0,
      "outputs": [
        {
          "output_type": "execute_result",
          "data": {
            "text/plain": [
              "0    282755\n",
              "1    271074\n",
              "4     79778\n",
              "5     32186\n",
              "2     16147\n",
              "3      6624\n",
              "Name: eventType, dtype: int64"
            ]
          },
          "metadata": {
            "tags": []
          },
          "execution_count": 5
        }
      ]
    },
    {
      "cell_type": "code",
      "metadata": {
        "id": "Frp5ClbpLBMq",
        "colab_type": "code",
        "colab": {}
      },
      "source": [
        ""
      ],
      "execution_count": 0,
      "outputs": []
    },
    {
      "cell_type": "markdown",
      "metadata": {
        "id": "-JfZZosCaUb7",
        "colab_type": "text"
      },
      "source": [
        "## Data Cleasing  \n",
        "After joinning Machine with Task & Job The event status = 3 is gone \n",
        "then we will focus at Tasks only  "
      ]
    },
    {
      "cell_type": "code",
      "metadata": {
        "id": "J-qWfAy9aWhJ",
        "colab_type": "code",
        "outputId": "6bc1b099-3bd5-4352-cc6f-71fde1cd984c",
        "colab": {
          "base_uri": "https://localhost:8080/",
          "height": 317
        }
      },
      "source": [
        "task.describe()"
      ],
      "execution_count": 0,
      "outputs": [
        {
          "output_type": "execute_result",
          "data": {
            "text/html": [
              "<div>\n",
              "<style scoped>\n",
              "    .dataframe tbody tr th:only-of-type {\n",
              "        vertical-align: middle;\n",
              "    }\n",
              "\n",
              "    .dataframe tbody tr th {\n",
              "        vertical-align: top;\n",
              "    }\n",
              "\n",
              "    .dataframe thead th {\n",
              "        text-align: right;\n",
              "    }\n",
              "</style>\n",
              "<table border=\"1\" class=\"dataframe\">\n",
              "  <thead>\n",
              "    <tr style=\"text-align: right;\">\n",
              "      <th></th>\n",
              "      <th>timestamp</th>\n",
              "      <th>missingInfo1</th>\n",
              "      <th>jobID</th>\n",
              "      <th>taskIndex</th>\n",
              "      <th>machineID</th>\n",
              "      <th>eventType</th>\n",
              "      <th>schedulingClass</th>\n",
              "      <th>priority</th>\n",
              "      <th>CPUCore</th>\n",
              "      <th>RAM</th>\n",
              "      <th>Disk</th>\n",
              "      <th>Constraint</th>\n",
              "    </tr>\n",
              "  </thead>\n",
              "  <tbody>\n",
              "    <tr>\n",
              "      <th>count</th>\n",
              "      <td>6.885640e+05</td>\n",
              "      <td>291.0</td>\n",
              "      <td>6.885640e+05</td>\n",
              "      <td>688564.000000</td>\n",
              "      <td>4.780800e+05</td>\n",
              "      <td>688564.000000</td>\n",
              "      <td>688564.000000</td>\n",
              "      <td>688564.00000</td>\n",
              "      <td>688273.000000</td>\n",
              "      <td>688273.000000</td>\n",
              "      <td>688273.000000</td>\n",
              "      <td>688273.000000</td>\n",
              "    </tr>\n",
              "    <tr>\n",
              "      <th>mean</th>\n",
              "      <td>4.741423e+09</td>\n",
              "      <td>2.0</td>\n",
              "      <td>5.618878e+09</td>\n",
              "      <td>1429.046336</td>\n",
              "      <td>1.273418e+09</td>\n",
              "      <td>1.166605</td>\n",
              "      <td>0.803940</td>\n",
              "      <td>2.60146</td>\n",
              "      <td>0.038840</td>\n",
              "      <td>0.031076</td>\n",
              "      <td>0.000281</td>\n",
              "      <td>0.313966</td>\n",
              "    </tr>\n",
              "    <tr>\n",
              "      <th>std</th>\n",
              "      <td>5.438975e+09</td>\n",
              "      <td>0.0</td>\n",
              "      <td>1.517770e+09</td>\n",
              "      <td>3322.689172</td>\n",
              "      <td>1.740422e+09</td>\n",
              "      <td>1.495150</td>\n",
              "      <td>1.048509</td>\n",
              "      <td>3.24079</td>\n",
              "      <td>0.043051</td>\n",
              "      <td>0.032847</td>\n",
              "      <td>0.000351</td>\n",
              "      <td>0.464103</td>\n",
              "    </tr>\n",
              "    <tr>\n",
              "      <th>min</th>\n",
              "      <td>0.000000e+00</td>\n",
              "      <td>2.0</td>\n",
              "      <td>3.418309e+06</td>\n",
              "      <td>0.000000</td>\n",
              "      <td>5.000000e+00</td>\n",
              "      <td>0.000000</td>\n",
              "      <td>0.000000</td>\n",
              "      <td>0.00000</td>\n",
              "      <td>0.000000</td>\n",
              "      <td>0.000000</td>\n",
              "      <td>0.000000</td>\n",
              "      <td>0.000000</td>\n",
              "    </tr>\n",
              "    <tr>\n",
              "      <th>25%</th>\n",
              "      <td>0.000000e+00</td>\n",
              "      <td>2.0</td>\n",
              "      <td>6.146435e+09</td>\n",
              "      <td>55.000000</td>\n",
              "      <td>6.641557e+06</td>\n",
              "      <td>0.000000</td>\n",
              "      <td>0.000000</td>\n",
              "      <td>0.00000</td>\n",
              "      <td>0.012500</td>\n",
              "      <td>0.013170</td>\n",
              "      <td>0.000038</td>\n",
              "      <td>0.000000</td>\n",
              "    </tr>\n",
              "    <tr>\n",
              "      <th>50%</th>\n",
              "      <td>2.199344e+09</td>\n",
              "      <td>2.0</td>\n",
              "      <td>6.250258e+09</td>\n",
              "      <td>326.000000</td>\n",
              "      <td>3.183599e+08</td>\n",
              "      <td>1.000000</td>\n",
              "      <td>0.000000</td>\n",
              "      <td>2.00000</td>\n",
              "      <td>0.024990</td>\n",
              "      <td>0.024570</td>\n",
              "      <td>0.000215</td>\n",
              "      <td>0.000000</td>\n",
              "    </tr>\n",
              "    <tr>\n",
              "      <th>75%</th>\n",
              "      <td>9.868463e+09</td>\n",
              "      <td>2.0</td>\n",
              "      <td>6.251982e+09</td>\n",
              "      <td>983.000000</td>\n",
              "      <td>2.191052e+09</td>\n",
              "      <td>1.000000</td>\n",
              "      <td>2.000000</td>\n",
              "      <td>2.00000</td>\n",
              "      <td>0.062500</td>\n",
              "      <td>0.033390</td>\n",
              "      <td>0.000386</td>\n",
              "      <td>1.000000</td>\n",
              "    </tr>\n",
              "    <tr>\n",
              "      <th>max</th>\n",
              "      <td>1.563175e+10</td>\n",
              "      <td>2.0</td>\n",
              "      <td>6.252618e+09</td>\n",
              "      <td>20009.000000</td>\n",
              "      <td>6.248207e+09</td>\n",
              "      <td>5.000000</td>\n",
              "      <td>3.000000</td>\n",
              "      <td>11.00000</td>\n",
              "      <td>0.500000</td>\n",
              "      <td>0.955100</td>\n",
              "      <td>0.009720</td>\n",
              "      <td>1.000000</td>\n",
              "    </tr>\n",
              "  </tbody>\n",
              "</table>\n",
              "</div>"
            ],
            "text/plain": [
              "          timestamp  missingInfo1  ...           Disk     Constraint\n",
              "count  6.885640e+05         291.0  ...  688273.000000  688273.000000\n",
              "mean   4.741423e+09           2.0  ...       0.000281       0.313966\n",
              "std    5.438975e+09           0.0  ...       0.000351       0.464103\n",
              "min    0.000000e+00           2.0  ...       0.000000       0.000000\n",
              "25%    0.000000e+00           2.0  ...       0.000038       0.000000\n",
              "50%    2.199344e+09           2.0  ...       0.000215       0.000000\n",
              "75%    9.868463e+09           2.0  ...       0.000386       1.000000\n",
              "max    1.563175e+10           2.0  ...       0.009720       1.000000\n",
              "\n",
              "[8 rows x 12 columns]"
            ]
          },
          "metadata": {
            "tags": []
          },
          "execution_count": 6
        }
      ]
    },
    {
      "cell_type": "code",
      "metadata": {
        "id": "rdhHNl92a2-p",
        "colab_type": "code",
        "outputId": "0e1510a6-e70d-4b36-bb09-2b8091dd0a4f",
        "colab": {
          "base_uri": "https://localhost:8080/",
          "height": 136
        }
      },
      "source": [
        "task.eventType.value_counts()"
      ],
      "execution_count": 0,
      "outputs": [
        {
          "output_type": "execute_result",
          "data": {
            "text/plain": [
              "0    282755\n",
              "1    271074\n",
              "4     79778\n",
              "5     32186\n",
              "2     16147\n",
              "3      6624\n",
              "Name: eventType, dtype: int64"
            ]
          },
          "metadata": {
            "tags": []
          },
          "execution_count": 7
        }
      ]
    },
    {
      "cell_type": "code",
      "metadata": {
        "id": "o92zdSmQH4_V",
        "colab_type": "code",
        "colab": {}
      },
      "source": [
        "data = task[['eventType','schedulingClass','priority','CPUCore','RAM','Disk','Constraint']]"
      ],
      "execution_count": 0,
      "outputs": []
    },
    {
      "cell_type": "code",
      "metadata": {
        "id": "3cLz98pFxsvF",
        "colab_type": "code",
        "outputId": "bc2f4a9b-8f1a-49a7-a2c8-391813cbc95b",
        "colab": {
          "base_uri": "https://localhost:8080/",
          "height": 297
        }
      },
      "source": [
        "data.describe()"
      ],
      "execution_count": 0,
      "outputs": [
        {
          "output_type": "execute_result",
          "data": {
            "text/html": [
              "<div>\n",
              "<style scoped>\n",
              "    .dataframe tbody tr th:only-of-type {\n",
              "        vertical-align: middle;\n",
              "    }\n",
              "\n",
              "    .dataframe tbody tr th {\n",
              "        vertical-align: top;\n",
              "    }\n",
              "\n",
              "    .dataframe thead th {\n",
              "        text-align: right;\n",
              "    }\n",
              "</style>\n",
              "<table border=\"1\" class=\"dataframe\">\n",
              "  <thead>\n",
              "    <tr style=\"text-align: right;\">\n",
              "      <th></th>\n",
              "      <th>eventType</th>\n",
              "      <th>schedulingClass</th>\n",
              "      <th>priority</th>\n",
              "      <th>CPUCore</th>\n",
              "      <th>RAM</th>\n",
              "      <th>Disk</th>\n",
              "      <th>Constraint</th>\n",
              "    </tr>\n",
              "  </thead>\n",
              "  <tbody>\n",
              "    <tr>\n",
              "      <th>count</th>\n",
              "      <td>688564.000000</td>\n",
              "      <td>688564.000000</td>\n",
              "      <td>688564.00000</td>\n",
              "      <td>688273.000000</td>\n",
              "      <td>688273.000000</td>\n",
              "      <td>688273.000000</td>\n",
              "      <td>688273.000000</td>\n",
              "    </tr>\n",
              "    <tr>\n",
              "      <th>mean</th>\n",
              "      <td>1.166605</td>\n",
              "      <td>0.803940</td>\n",
              "      <td>2.60146</td>\n",
              "      <td>0.038840</td>\n",
              "      <td>0.031076</td>\n",
              "      <td>0.000281</td>\n",
              "      <td>0.313966</td>\n",
              "    </tr>\n",
              "    <tr>\n",
              "      <th>std</th>\n",
              "      <td>1.495150</td>\n",
              "      <td>1.048509</td>\n",
              "      <td>3.24079</td>\n",
              "      <td>0.043051</td>\n",
              "      <td>0.032847</td>\n",
              "      <td>0.000351</td>\n",
              "      <td>0.464103</td>\n",
              "    </tr>\n",
              "    <tr>\n",
              "      <th>min</th>\n",
              "      <td>0.000000</td>\n",
              "      <td>0.000000</td>\n",
              "      <td>0.00000</td>\n",
              "      <td>0.000000</td>\n",
              "      <td>0.000000</td>\n",
              "      <td>0.000000</td>\n",
              "      <td>0.000000</td>\n",
              "    </tr>\n",
              "    <tr>\n",
              "      <th>25%</th>\n",
              "      <td>0.000000</td>\n",
              "      <td>0.000000</td>\n",
              "      <td>0.00000</td>\n",
              "      <td>0.012500</td>\n",
              "      <td>0.013170</td>\n",
              "      <td>0.000038</td>\n",
              "      <td>0.000000</td>\n",
              "    </tr>\n",
              "    <tr>\n",
              "      <th>50%</th>\n",
              "      <td>1.000000</td>\n",
              "      <td>0.000000</td>\n",
              "      <td>2.00000</td>\n",
              "      <td>0.024990</td>\n",
              "      <td>0.024570</td>\n",
              "      <td>0.000215</td>\n",
              "      <td>0.000000</td>\n",
              "    </tr>\n",
              "    <tr>\n",
              "      <th>75%</th>\n",
              "      <td>1.000000</td>\n",
              "      <td>2.000000</td>\n",
              "      <td>2.00000</td>\n",
              "      <td>0.062500</td>\n",
              "      <td>0.033390</td>\n",
              "      <td>0.000386</td>\n",
              "      <td>1.000000</td>\n",
              "    </tr>\n",
              "    <tr>\n",
              "      <th>max</th>\n",
              "      <td>5.000000</td>\n",
              "      <td>3.000000</td>\n",
              "      <td>11.00000</td>\n",
              "      <td>0.500000</td>\n",
              "      <td>0.955100</td>\n",
              "      <td>0.009720</td>\n",
              "      <td>1.000000</td>\n",
              "    </tr>\n",
              "  </tbody>\n",
              "</table>\n",
              "</div>"
            ],
            "text/plain": [
              "           eventType  schedulingClass  ...           Disk     Constraint\n",
              "count  688564.000000    688564.000000  ...  688273.000000  688273.000000\n",
              "mean        1.166605         0.803940  ...       0.000281       0.313966\n",
              "std         1.495150         1.048509  ...       0.000351       0.464103\n",
              "min         0.000000         0.000000  ...       0.000000       0.000000\n",
              "25%         0.000000         0.000000  ...       0.000038       0.000000\n",
              "50%         1.000000         0.000000  ...       0.000215       0.000000\n",
              "75%         1.000000         2.000000  ...       0.000386       1.000000\n",
              "max         5.000000         3.000000  ...       0.009720       1.000000\n",
              "\n",
              "[8 rows x 7 columns]"
            ]
          },
          "metadata": {
            "tags": []
          },
          "execution_count": 11
        }
      ]
    },
    {
      "cell_type": "code",
      "metadata": {
        "id": "k4EAxeS8xt-l",
        "colab_type": "code",
        "colab": {}
      },
      "source": [
        "df = data"
      ],
      "execution_count": 0,
      "outputs": []
    },
    {
      "cell_type": "code",
      "metadata": {
        "id": "jpJapYMtyIWn",
        "colab_type": "code",
        "outputId": "f656f45f-2619-4177-c3da-43cab1e0f4d9",
        "colab": {
          "base_uri": "https://localhost:8080/",
          "height": 221
        }
      },
      "source": [
        "df.info()"
      ],
      "execution_count": 0,
      "outputs": [
        {
          "output_type": "stream",
          "text": [
            "<class 'pandas.core.frame.DataFrame'>\n",
            "Int64Index: 688564 entries, 0 to 160641\n",
            "Data columns (total 7 columns):\n",
            "eventType          688564 non-null int64\n",
            "schedulingClass    688564 non-null int64\n",
            "priority           688564 non-null int64\n",
            "CPUCore            688273 non-null float64\n",
            "RAM                688273 non-null float64\n",
            "Disk               688273 non-null float64\n",
            "Constraint         688273 non-null float64\n",
            "dtypes: float64(4), int64(3)\n",
            "memory usage: 42.0 MB\n"
          ],
          "name": "stdout"
        }
      ]
    },
    {
      "cell_type": "code",
      "metadata": {
        "id": "dL02xliw0Pyk",
        "colab_type": "code",
        "outputId": "be803731-bb2c-4e1f-b71e-450c5754dd68",
        "colab": {
          "base_uri": "https://localhost:8080/",
          "height": 34
        }
      },
      "source": [
        "## Check Null\n",
        "df.isnull().values.any()"
      ],
      "execution_count": 0,
      "outputs": [
        {
          "output_type": "execute_result",
          "data": {
            "text/plain": [
              "True"
            ]
          },
          "metadata": {
            "tags": []
          },
          "execution_count": 14
        }
      ]
    },
    {
      "cell_type": "code",
      "metadata": {
        "id": "Da912Q0U0WWd",
        "colab_type": "code",
        "outputId": "05d9fa12-9b3e-4620-d9a0-17dd483adab2",
        "colab": {
          "base_uri": "https://localhost:8080/",
          "height": 297
        }
      },
      "source": [
        "df.describe(include='all')"
      ],
      "execution_count": 0,
      "outputs": [
        {
          "output_type": "execute_result",
          "data": {
            "text/html": [
              "<div>\n",
              "<style scoped>\n",
              "    .dataframe tbody tr th:only-of-type {\n",
              "        vertical-align: middle;\n",
              "    }\n",
              "\n",
              "    .dataframe tbody tr th {\n",
              "        vertical-align: top;\n",
              "    }\n",
              "\n",
              "    .dataframe thead th {\n",
              "        text-align: right;\n",
              "    }\n",
              "</style>\n",
              "<table border=\"1\" class=\"dataframe\">\n",
              "  <thead>\n",
              "    <tr style=\"text-align: right;\">\n",
              "      <th></th>\n",
              "      <th>eventType</th>\n",
              "      <th>schedulingClass</th>\n",
              "      <th>priority</th>\n",
              "      <th>CPUCore</th>\n",
              "      <th>RAM</th>\n",
              "      <th>Disk</th>\n",
              "      <th>Constraint</th>\n",
              "    </tr>\n",
              "  </thead>\n",
              "  <tbody>\n",
              "    <tr>\n",
              "      <th>count</th>\n",
              "      <td>688564.000000</td>\n",
              "      <td>688564.000000</td>\n",
              "      <td>688564.00000</td>\n",
              "      <td>688273.000000</td>\n",
              "      <td>688273.000000</td>\n",
              "      <td>688273.000000</td>\n",
              "      <td>688273.000000</td>\n",
              "    </tr>\n",
              "    <tr>\n",
              "      <th>mean</th>\n",
              "      <td>1.166605</td>\n",
              "      <td>0.803940</td>\n",
              "      <td>2.60146</td>\n",
              "      <td>0.038840</td>\n",
              "      <td>0.031076</td>\n",
              "      <td>0.000281</td>\n",
              "      <td>0.313966</td>\n",
              "    </tr>\n",
              "    <tr>\n",
              "      <th>std</th>\n",
              "      <td>1.495150</td>\n",
              "      <td>1.048509</td>\n",
              "      <td>3.24079</td>\n",
              "      <td>0.043051</td>\n",
              "      <td>0.032847</td>\n",
              "      <td>0.000351</td>\n",
              "      <td>0.464103</td>\n",
              "    </tr>\n",
              "    <tr>\n",
              "      <th>min</th>\n",
              "      <td>0.000000</td>\n",
              "      <td>0.000000</td>\n",
              "      <td>0.00000</td>\n",
              "      <td>0.000000</td>\n",
              "      <td>0.000000</td>\n",
              "      <td>0.000000</td>\n",
              "      <td>0.000000</td>\n",
              "    </tr>\n",
              "    <tr>\n",
              "      <th>25%</th>\n",
              "      <td>0.000000</td>\n",
              "      <td>0.000000</td>\n",
              "      <td>0.00000</td>\n",
              "      <td>0.012500</td>\n",
              "      <td>0.013170</td>\n",
              "      <td>0.000038</td>\n",
              "      <td>0.000000</td>\n",
              "    </tr>\n",
              "    <tr>\n",
              "      <th>50%</th>\n",
              "      <td>1.000000</td>\n",
              "      <td>0.000000</td>\n",
              "      <td>2.00000</td>\n",
              "      <td>0.024990</td>\n",
              "      <td>0.024570</td>\n",
              "      <td>0.000215</td>\n",
              "      <td>0.000000</td>\n",
              "    </tr>\n",
              "    <tr>\n",
              "      <th>75%</th>\n",
              "      <td>1.000000</td>\n",
              "      <td>2.000000</td>\n",
              "      <td>2.00000</td>\n",
              "      <td>0.062500</td>\n",
              "      <td>0.033390</td>\n",
              "      <td>0.000386</td>\n",
              "      <td>1.000000</td>\n",
              "    </tr>\n",
              "    <tr>\n",
              "      <th>max</th>\n",
              "      <td>5.000000</td>\n",
              "      <td>3.000000</td>\n",
              "      <td>11.00000</td>\n",
              "      <td>0.500000</td>\n",
              "      <td>0.955100</td>\n",
              "      <td>0.009720</td>\n",
              "      <td>1.000000</td>\n",
              "    </tr>\n",
              "  </tbody>\n",
              "</table>\n",
              "</div>"
            ],
            "text/plain": [
              "           eventType  schedulingClass  ...           Disk     Constraint\n",
              "count  688564.000000    688564.000000  ...  688273.000000  688273.000000\n",
              "mean        1.166605         0.803940  ...       0.000281       0.313966\n",
              "std         1.495150         1.048509  ...       0.000351       0.464103\n",
              "min         0.000000         0.000000  ...       0.000000       0.000000\n",
              "25%         0.000000         0.000000  ...       0.000038       0.000000\n",
              "50%         1.000000         0.000000  ...       0.000215       0.000000\n",
              "75%         1.000000         2.000000  ...       0.000386       1.000000\n",
              "max         5.000000         3.000000  ...       0.009720       1.000000\n",
              "\n",
              "[8 rows x 7 columns]"
            ]
          },
          "metadata": {
            "tags": []
          },
          "execution_count": 15
        }
      ]
    },
    {
      "cell_type": "markdown",
      "metadata": {
        "id": "0alPBd542RdX",
        "colab_type": "text"
      },
      "source": [
        "## Check Null on each column && DROP THEM"
      ]
    },
    {
      "cell_type": "code",
      "metadata": {
        "id": "1L0F0wJu0ahW",
        "colab_type": "code",
        "outputId": "16ba8045-f91f-40b6-d4b1-f3483b527984",
        "colab": {
          "base_uri": "https://localhost:8080/",
          "height": 425
        }
      },
      "source": [
        "print(\"eventType : Null is \",df.eventType.isna().value_counts())\n",
        "print(\"\\nschedulingClass : Null is \",df.schedulingClass.isna().value_counts())\n",
        "print(\"\\npriority : Null is \",df.priority.isna().value_counts())\n",
        "print(\"\\nCPUCore : Null is \",df.CPUCore.isna().value_counts())\n",
        "print(\"\\nRAM : Null is \",df.RAM.isna().value_counts())\n",
        "print(\"\\nDisk : Null is \",df.Disk.isna().value_counts())\n",
        "print(\"\\nConstraint : Null is \",df.Constraint.isna().value_counts())"
      ],
      "execution_count": 0,
      "outputs": [
        {
          "output_type": "stream",
          "text": [
            "eventType : Null is  False    688564\n",
            "Name: eventType, dtype: int64\n",
            "\n",
            "schedulingClass : Null is  False    688564\n",
            "Name: schedulingClass, dtype: int64\n",
            "\n",
            "priority : Null is  False    688564\n",
            "Name: priority, dtype: int64\n",
            "\n",
            "CPUCore : Null is  False    688273\n",
            "True        291\n",
            "Name: CPUCore, dtype: int64\n",
            "\n",
            "RAM : Null is  False    688273\n",
            "True        291\n",
            "Name: RAM, dtype: int64\n",
            "\n",
            "Disk : Null is  False    688273\n",
            "True        291\n",
            "Name: Disk, dtype: int64\n",
            "\n",
            "Constraint : Null is  False    688273\n",
            "True        291\n",
            "Name: Constraint, dtype: int64\n"
          ],
          "name": "stdout"
        }
      ]
    },
    {
      "cell_type": "code",
      "metadata": {
        "id": "p7lild9y1jn9",
        "colab_type": "code",
        "colab": {}
      },
      "source": [
        "## Drop Null Data\n",
        "df_ok = df.dropna(subset=['CPUCore','RAM','Disk','Constraint'])"
      ],
      "execution_count": 0,
      "outputs": []
    },
    {
      "cell_type": "code",
      "metadata": {
        "id": "mQLDsyjJ233R",
        "colab_type": "code",
        "outputId": "eab6b20b-0c13-4d93-c12c-1da2360b9ee1",
        "colab": {
          "base_uri": "https://localhost:8080/",
          "height": 34
        }
      },
      "source": [
        "df_ok.isnull().values.any()"
      ],
      "execution_count": 0,
      "outputs": [
        {
          "output_type": "execute_result",
          "data": {
            "text/plain": [
              "False"
            ]
          },
          "metadata": {
            "tags": []
          },
          "execution_count": 18
        }
      ]
    },
    {
      "cell_type": "code",
      "metadata": {
        "id": "SlWbW6jC28PC",
        "colab_type": "code",
        "outputId": "bc0f917d-ee59-4946-b33b-d16c690c90ae",
        "colab": {
          "base_uri": "https://localhost:8080/",
          "height": 357
        }
      },
      "source": [
        "print(\"eventType : Null is \",df_ok.eventType.isna().value_counts())\n",
        "print(\"\\nschedulingClass : Null is \",df_ok.schedulingClass.isna().value_counts())\n",
        "print(\"\\npriority : Null is \",df_ok.priority.isna().value_counts())\n",
        "print(\"\\nCPUCore : Null is \",df_ok.CPUCore.isna().value_counts())\n",
        "print(\"\\nRAM : Null is \",df_ok.RAM.isna().value_counts())\n",
        "print(\"\\nDisk : Null is \",df_ok.Disk.isna().value_counts())\n",
        "print(\"\\nConstraint : Null is \",df_ok.Constraint.isna().value_counts())"
      ],
      "execution_count": 0,
      "outputs": [
        {
          "output_type": "stream",
          "text": [
            "eventType : Null is  False    688273\n",
            "Name: eventType, dtype: int64\n",
            "\n",
            "schedulingClass : Null is  False    688273\n",
            "Name: schedulingClass, dtype: int64\n",
            "\n",
            "priority : Null is  False    688273\n",
            "Name: priority, dtype: int64\n",
            "\n",
            "CPUCore : Null is  False    688273\n",
            "Name: CPUCore, dtype: int64\n",
            "\n",
            "RAM : Null is  False    688273\n",
            "Name: RAM, dtype: int64\n",
            "\n",
            "Disk : Null is  False    688273\n",
            "Name: Disk, dtype: int64\n",
            "\n",
            "Constraint : Null is  False    688273\n",
            "Name: Constraint, dtype: int64\n"
          ],
          "name": "stdout"
        }
      ]
    },
    {
      "cell_type": "code",
      "metadata": {
        "id": "BWJsJYoK3C7_",
        "colab_type": "code",
        "outputId": "aae6be6d-9e6c-4a33-e1b1-428516724171",
        "colab": {
          "base_uri": "https://localhost:8080/",
          "height": 136
        }
      },
      "source": [
        "df_ok.eventType.value_counts()"
      ],
      "execution_count": 0,
      "outputs": [
        {
          "output_type": "execute_result",
          "data": {
            "text/plain": [
              "0    282464\n",
              "1    271074\n",
              "4     79778\n",
              "5     32186\n",
              "2     16147\n",
              "3      6624\n",
              "Name: eventType, dtype: int64"
            ]
          },
          "metadata": {
            "tags": []
          },
          "execution_count": 20
        }
      ]
    },
    {
      "cell_type": "markdown",
      "metadata": {
        "id": "yUy712ZY3mhd",
        "colab_type": "text"
      },
      "source": [
        "## Convert Event type to Binominal  -- 3 and others"
      ]
    },
    {
      "cell_type": "code",
      "metadata": {
        "id": "WxzDwk073e2B",
        "colab_type": "code",
        "outputId": "a12f67ec-1fa3-41e6-dc19-f2de804eed36",
        "colab": {
          "base_uri": "https://localhost:8080/",
          "height": 221
        }
      },
      "source": [
        "df_ok.info()"
      ],
      "execution_count": 0,
      "outputs": [
        {
          "output_type": "stream",
          "text": [
            "<class 'pandas.core.frame.DataFrame'>\n",
            "Int64Index: 688273 entries, 2 to 160641\n",
            "Data columns (total 7 columns):\n",
            "eventType          688273 non-null int64\n",
            "schedulingClass    688273 non-null int64\n",
            "priority           688273 non-null int64\n",
            "CPUCore            688273 non-null float64\n",
            "RAM                688273 non-null float64\n",
            "Disk               688273 non-null float64\n",
            "Constraint         688273 non-null float64\n",
            "dtypes: float64(4), int64(3)\n",
            "memory usage: 42.0 MB\n"
          ],
          "name": "stdout"
        }
      ]
    },
    {
      "cell_type": "code",
      "metadata": {
        "id": "AdvjyhvcAEfB",
        "colab_type": "code",
        "outputId": "1cd86a45-6f09-46ae-f380-23150c46d029",
        "colab": {
          "base_uri": "https://localhost:8080/",
          "height": 731
        }
      },
      "source": [
        "df_ok[\"eventType\"] = pd.to_numeric(df_ok.eventType, errors='coerce')\n",
        "df_ok[\"schedulingClass\"] = df_ok.schedulingClass.astype(float)\n",
        "df_ok[\"priority\"] = df_ok.priority.astype(float)\n",
        "df_ok[\"CPUCore\"] = df_ok.CPUCore.astype(float)\n",
        "df_ok[\"RAM\"] = df_ok.RAM.astype(float)\n",
        "df_ok[\"Disk\"] = df_ok.Disk.astype(float)\n",
        "df_ok[\"Constraint\"] = df_ok.Constraint.astype(float)"
      ],
      "execution_count": 0,
      "outputs": [
        {
          "output_type": "stream",
          "text": [
            "/usr/local/lib/python3.6/dist-packages/ipykernel_launcher.py:1: SettingWithCopyWarning: \n",
            "A value is trying to be set on a copy of a slice from a DataFrame.\n",
            "Try using .loc[row_indexer,col_indexer] = value instead\n",
            "\n",
            "See the caveats in the documentation: http://pandas.pydata.org/pandas-docs/stable/indexing.html#indexing-view-versus-copy\n",
            "  \"\"\"Entry point for launching an IPython kernel.\n",
            "/usr/local/lib/python3.6/dist-packages/ipykernel_launcher.py:2: SettingWithCopyWarning: \n",
            "A value is trying to be set on a copy of a slice from a DataFrame.\n",
            "Try using .loc[row_indexer,col_indexer] = value instead\n",
            "\n",
            "See the caveats in the documentation: http://pandas.pydata.org/pandas-docs/stable/indexing.html#indexing-view-versus-copy\n",
            "  \n",
            "/usr/local/lib/python3.6/dist-packages/ipykernel_launcher.py:3: SettingWithCopyWarning: \n",
            "A value is trying to be set on a copy of a slice from a DataFrame.\n",
            "Try using .loc[row_indexer,col_indexer] = value instead\n",
            "\n",
            "See the caveats in the documentation: http://pandas.pydata.org/pandas-docs/stable/indexing.html#indexing-view-versus-copy\n",
            "  This is separate from the ipykernel package so we can avoid doing imports until\n",
            "/usr/local/lib/python3.6/dist-packages/ipykernel_launcher.py:4: SettingWithCopyWarning: \n",
            "A value is trying to be set on a copy of a slice from a DataFrame.\n",
            "Try using .loc[row_indexer,col_indexer] = value instead\n",
            "\n",
            "See the caveats in the documentation: http://pandas.pydata.org/pandas-docs/stable/indexing.html#indexing-view-versus-copy\n",
            "  after removing the cwd from sys.path.\n",
            "/usr/local/lib/python3.6/dist-packages/ipykernel_launcher.py:5: SettingWithCopyWarning: \n",
            "A value is trying to be set on a copy of a slice from a DataFrame.\n",
            "Try using .loc[row_indexer,col_indexer] = value instead\n",
            "\n",
            "See the caveats in the documentation: http://pandas.pydata.org/pandas-docs/stable/indexing.html#indexing-view-versus-copy\n",
            "  \"\"\"\n",
            "/usr/local/lib/python3.6/dist-packages/ipykernel_launcher.py:6: SettingWithCopyWarning: \n",
            "A value is trying to be set on a copy of a slice from a DataFrame.\n",
            "Try using .loc[row_indexer,col_indexer] = value instead\n",
            "\n",
            "See the caveats in the documentation: http://pandas.pydata.org/pandas-docs/stable/indexing.html#indexing-view-versus-copy\n",
            "  \n",
            "/usr/local/lib/python3.6/dist-packages/ipykernel_launcher.py:7: SettingWithCopyWarning: \n",
            "A value is trying to be set on a copy of a slice from a DataFrame.\n",
            "Try using .loc[row_indexer,col_indexer] = value instead\n",
            "\n",
            "See the caveats in the documentation: http://pandas.pydata.org/pandas-docs/stable/indexing.html#indexing-view-versus-copy\n",
            "  import sys\n"
          ],
          "name": "stderr"
        }
      ]
    },
    {
      "cell_type": "code",
      "metadata": {
        "id": "CZuDGjoGB4KS",
        "colab_type": "code",
        "outputId": "9293bbf0-ee37-4ccd-83b4-7bd268370e67",
        "colab": {
          "base_uri": "https://localhost:8080/",
          "height": 297
        }
      },
      "source": [
        "df_ok.describe()"
      ],
      "execution_count": 0,
      "outputs": [
        {
          "output_type": "execute_result",
          "data": {
            "text/html": [
              "<div>\n",
              "<style scoped>\n",
              "    .dataframe tbody tr th:only-of-type {\n",
              "        vertical-align: middle;\n",
              "    }\n",
              "\n",
              "    .dataframe tbody tr th {\n",
              "        vertical-align: top;\n",
              "    }\n",
              "\n",
              "    .dataframe thead th {\n",
              "        text-align: right;\n",
              "    }\n",
              "</style>\n",
              "<table border=\"1\" class=\"dataframe\">\n",
              "  <thead>\n",
              "    <tr style=\"text-align: right;\">\n",
              "      <th></th>\n",
              "      <th>eventType</th>\n",
              "      <th>schedulingClass</th>\n",
              "      <th>priority</th>\n",
              "      <th>CPUCore</th>\n",
              "      <th>RAM</th>\n",
              "      <th>Disk</th>\n",
              "      <th>Constraint</th>\n",
              "    </tr>\n",
              "  </thead>\n",
              "  <tbody>\n",
              "    <tr>\n",
              "      <th>count</th>\n",
              "      <td>688273.000000</td>\n",
              "      <td>688273.000000</td>\n",
              "      <td>688273.000000</td>\n",
              "      <td>688273.000000</td>\n",
              "      <td>688273.000000</td>\n",
              "      <td>688273.000000</td>\n",
              "      <td>688273.000000</td>\n",
              "    </tr>\n",
              "    <tr>\n",
              "      <th>mean</th>\n",
              "      <td>1.167098</td>\n",
              "      <td>0.803639</td>\n",
              "      <td>2.601106</td>\n",
              "      <td>0.038840</td>\n",
              "      <td>0.031076</td>\n",
              "      <td>0.000281</td>\n",
              "      <td>0.313966</td>\n",
              "    </tr>\n",
              "    <tr>\n",
              "      <th>std</th>\n",
              "      <td>1.495273</td>\n",
              "      <td>1.048376</td>\n",
              "      <td>3.240291</td>\n",
              "      <td>0.043051</td>\n",
              "      <td>0.032847</td>\n",
              "      <td>0.000351</td>\n",
              "      <td>0.464103</td>\n",
              "    </tr>\n",
              "    <tr>\n",
              "      <th>min</th>\n",
              "      <td>0.000000</td>\n",
              "      <td>0.000000</td>\n",
              "      <td>0.000000</td>\n",
              "      <td>0.000000</td>\n",
              "      <td>0.000000</td>\n",
              "      <td>0.000000</td>\n",
              "      <td>0.000000</td>\n",
              "    </tr>\n",
              "    <tr>\n",
              "      <th>25%</th>\n",
              "      <td>0.000000</td>\n",
              "      <td>0.000000</td>\n",
              "      <td>0.000000</td>\n",
              "      <td>0.012500</td>\n",
              "      <td>0.013170</td>\n",
              "      <td>0.000038</td>\n",
              "      <td>0.000000</td>\n",
              "    </tr>\n",
              "    <tr>\n",
              "      <th>50%</th>\n",
              "      <td>1.000000</td>\n",
              "      <td>0.000000</td>\n",
              "      <td>2.000000</td>\n",
              "      <td>0.024990</td>\n",
              "      <td>0.024570</td>\n",
              "      <td>0.000215</td>\n",
              "      <td>0.000000</td>\n",
              "    </tr>\n",
              "    <tr>\n",
              "      <th>75%</th>\n",
              "      <td>1.000000</td>\n",
              "      <td>2.000000</td>\n",
              "      <td>2.000000</td>\n",
              "      <td>0.062500</td>\n",
              "      <td>0.033390</td>\n",
              "      <td>0.000386</td>\n",
              "      <td>1.000000</td>\n",
              "    </tr>\n",
              "    <tr>\n",
              "      <th>max</th>\n",
              "      <td>5.000000</td>\n",
              "      <td>3.000000</td>\n",
              "      <td>11.000000</td>\n",
              "      <td>0.500000</td>\n",
              "      <td>0.955100</td>\n",
              "      <td>0.009720</td>\n",
              "      <td>1.000000</td>\n",
              "    </tr>\n",
              "  </tbody>\n",
              "</table>\n",
              "</div>"
            ],
            "text/plain": [
              "           eventType  schedulingClass  ...           Disk     Constraint\n",
              "count  688273.000000    688273.000000  ...  688273.000000  688273.000000\n",
              "mean        1.167098         0.803639  ...       0.000281       0.313966\n",
              "std         1.495273         1.048376  ...       0.000351       0.464103\n",
              "min         0.000000         0.000000  ...       0.000000       0.000000\n",
              "25%         0.000000         0.000000  ...       0.000038       0.000000\n",
              "50%         1.000000         0.000000  ...       0.000215       0.000000\n",
              "75%         1.000000         2.000000  ...       0.000386       1.000000\n",
              "max         5.000000         3.000000  ...       0.009720       1.000000\n",
              "\n",
              "[8 rows x 7 columns]"
            ]
          },
          "metadata": {
            "tags": []
          },
          "execution_count": 23
        }
      ]
    },
    {
      "cell_type": "code",
      "metadata": {
        "id": "ALS322js4OFL",
        "colab_type": "code",
        "outputId": "76f838d5-5d3e-4221-8f5a-77484bea56e0",
        "colab": {
          "base_uri": "https://localhost:8080/",
          "height": 119
        }
      },
      "source": [
        "def failTranform(a):\n",
        "  if(a==3):\n",
        "    return 1;\n",
        "  else:\n",
        "    return 0;\n",
        "\n",
        "\n",
        "df_ok['eventType'] = df_ok['eventType'].apply(failTranform)"
      ],
      "execution_count": 0,
      "outputs": [
        {
          "output_type": "stream",
          "text": [
            "/usr/local/lib/python3.6/dist-packages/ipykernel_launcher.py:8: SettingWithCopyWarning: \n",
            "A value is trying to be set on a copy of a slice from a DataFrame.\n",
            "Try using .loc[row_indexer,col_indexer] = value instead\n",
            "\n",
            "See the caveats in the documentation: http://pandas.pydata.org/pandas-docs/stable/indexing.html#indexing-view-versus-copy\n",
            "  \n"
          ],
          "name": "stderr"
        }
      ]
    },
    {
      "cell_type": "code",
      "metadata": {
        "id": "Fn40AI7a61TP",
        "colab_type": "code",
        "outputId": "4bf391a5-4b76-4da5-a5db-e0eece974def",
        "colab": {
          "base_uri": "https://localhost:8080/",
          "height": 68
        }
      },
      "source": [
        "df_ok.eventType.value_counts()"
      ],
      "execution_count": 0,
      "outputs": [
        {
          "output_type": "execute_result",
          "data": {
            "text/plain": [
              "0    681649\n",
              "1      6624\n",
              "Name: eventType, dtype: int64"
            ]
          },
          "metadata": {
            "tags": []
          },
          "execution_count": 25
        }
      ]
    },
    {
      "cell_type": "code",
      "metadata": {
        "id": "goVOKtdE7FOR",
        "colab_type": "code",
        "outputId": "47203d36-ab4c-4e9e-8c65-bf1aeb74f8ef",
        "colab": {
          "base_uri": "https://localhost:8080/",
          "height": 34
        }
      },
      "source": [
        "df.shape"
      ],
      "execution_count": 0,
      "outputs": [
        {
          "output_type": "execute_result",
          "data": {
            "text/plain": [
              "(688564, 7)"
            ]
          },
          "metadata": {
            "tags": []
          },
          "execution_count": 26
        }
      ]
    },
    {
      "cell_type": "code",
      "metadata": {
        "id": "iBOzBLzy7Hs5",
        "colab_type": "code",
        "outputId": "21b1a7d3-dccc-4677-afd6-f0519e566adc",
        "colab": {
          "base_uri": "https://localhost:8080/",
          "height": 221
        }
      },
      "source": [
        "df_ok.info()"
      ],
      "execution_count": 0,
      "outputs": [
        {
          "output_type": "stream",
          "text": [
            "<class 'pandas.core.frame.DataFrame'>\n",
            "Int64Index: 688273 entries, 2 to 160641\n",
            "Data columns (total 7 columns):\n",
            "eventType          688273 non-null int64\n",
            "schedulingClass    688273 non-null float64\n",
            "priority           688273 non-null float64\n",
            "CPUCore            688273 non-null float64\n",
            "RAM                688273 non-null float64\n",
            "Disk               688273 non-null float64\n",
            "Constraint         688273 non-null float64\n",
            "dtypes: float64(6), int64(1)\n",
            "memory usage: 42.0 MB\n"
          ],
          "name": "stdout"
        }
      ]
    },
    {
      "cell_type": "code",
      "metadata": {
        "id": "zUPMLwL77R9i",
        "colab_type": "code",
        "colab": {}
      },
      "source": [
        ""
      ],
      "execution_count": 0,
      "outputs": []
    },
    {
      "cell_type": "markdown",
      "metadata": {
        "id": "JSuPlxz4CO_N",
        "colab_type": "text"
      },
      "source": [
        "## Train & Test Sprit"
      ]
    },
    {
      "cell_type": "code",
      "metadata": {
        "id": "5RpAu2zzCRIL",
        "colab_type": "code",
        "outputId": "bf635bf9-1ae0-4362-d45f-aeb0ca326a5d",
        "colab": {
          "base_uri": "https://localhost:8080/",
          "height": 51
        }
      },
      "source": [
        "from sklearn.model_selection import train_test_split\n",
        "y = df_ok['eventType']\n",
        "X = df_ok.drop(columns='eventType')\n",
        "X_train, X_test, y_train, y_test = train_test_split(X,y,test_size=0.2)\n",
        "X_train.head()\n",
        "\n",
        "print(\"Train:\",X_train.shape,\",\",y_train.shape)\n",
        "\n",
        "print(\"Test:\",X_test.shape)"
      ],
      "execution_count": 0,
      "outputs": [
        {
          "output_type": "stream",
          "text": [
            "Train: (550618, 6) , (550618,)\n",
            "Test: (137655, 6)\n"
          ],
          "name": "stdout"
        }
      ]
    },
    {
      "cell_type": "code",
      "metadata": {
        "id": "H9kUsxPeF_U2",
        "colab_type": "code",
        "outputId": "d6ec0936-e405-4187-9689-e5d52c7cef5c",
        "colab": {
          "base_uri": "https://localhost:8080/",
          "height": 119
        }
      },
      "source": [
        "y_test.head()"
      ],
      "execution_count": 0,
      "outputs": [
        {
          "output_type": "execute_result",
          "data": {
            "text/plain": [
              "147714    0\n",
              "391473    0\n",
              "437614    0\n",
              "122283    0\n",
              "303379    0\n",
              "Name: eventType, dtype: int64"
            ]
          },
          "metadata": {
            "tags": []
          },
          "execution_count": 29
        }
      ]
    },
    {
      "cell_type": "markdown",
      "metadata": {
        "id": "DfbZmF6kEQJb",
        "colab_type": "text"
      },
      "source": [
        "## Model "
      ]
    },
    {
      "cell_type": "code",
      "metadata": {
        "id": "7e6A5F--D2pN",
        "colab_type": "code",
        "outputId": "f3b66a0b-c6a2-4d83-b227-6b2c5087dfa3",
        "colab": {
          "base_uri": "https://localhost:8080/",
          "height": 190
        }
      },
      "source": [
        "from sklearn.ensemble import RandomForestClassifier\n",
        "\n",
        "clf_random = RandomForestClassifier(random_state=0)\n",
        "clf_random = clf_random.fit(X_train, y_train)\n",
        "\n",
        "print(clf_random)"
      ],
      "execution_count": 0,
      "outputs": [
        {
          "output_type": "stream",
          "text": [
            "/usr/local/lib/python3.6/dist-packages/sklearn/ensemble/forest.py:245: FutureWarning: The default value of n_estimators will change from 10 in version 0.20 to 100 in 0.22.\n",
            "  \"10 in version 0.20 to 100 in 0.22.\", FutureWarning)\n"
          ],
          "name": "stderr"
        },
        {
          "output_type": "stream",
          "text": [
            "RandomForestClassifier(bootstrap=True, class_weight=None, criterion='gini',\n",
            "                       max_depth=None, max_features='auto', max_leaf_nodes=None,\n",
            "                       min_impurity_decrease=0.0, min_impurity_split=None,\n",
            "                       min_samples_leaf=1, min_samples_split=2,\n",
            "                       min_weight_fraction_leaf=0.0, n_estimators=10,\n",
            "                       n_jobs=None, oob_score=False, random_state=0, verbose=0,\n",
            "                       warm_start=False)\n"
          ],
          "name": "stdout"
        }
      ]
    },
    {
      "cell_type": "code",
      "metadata": {
        "id": "-hSeryogEeUY",
        "colab_type": "code",
        "outputId": "481f6224-7f31-4af3-c292-3a7e7420c434",
        "colab": {
          "base_uri": "https://localhost:8080/",
          "height": 235
        }
      },
      "source": [
        "#Feature Importance\n",
        "\n",
        "tree_feature = pd.DataFrame({'feature':X_train.columns,\n",
        "                             'Score':clf_random.feature_importances_})\n",
        "\n",
        "tree_feature.sort_values(by = 'Score', ascending=False)"
      ],
      "execution_count": 0,
      "outputs": [
        {
          "output_type": "execute_result",
          "data": {
            "text/html": [
              "<div>\n",
              "<style scoped>\n",
              "    .dataframe tbody tr th:only-of-type {\n",
              "        vertical-align: middle;\n",
              "    }\n",
              "\n",
              "    .dataframe tbody tr th {\n",
              "        vertical-align: top;\n",
              "    }\n",
              "\n",
              "    .dataframe thead th {\n",
              "        text-align: right;\n",
              "    }\n",
              "</style>\n",
              "<table border=\"1\" class=\"dataframe\">\n",
              "  <thead>\n",
              "    <tr style=\"text-align: right;\">\n",
              "      <th></th>\n",
              "      <th>feature</th>\n",
              "      <th>Score</th>\n",
              "    </tr>\n",
              "  </thead>\n",
              "  <tbody>\n",
              "    <tr>\n",
              "      <th>4</th>\n",
              "      <td>Disk</td>\n",
              "      <td>0.335801</td>\n",
              "    </tr>\n",
              "    <tr>\n",
              "      <th>3</th>\n",
              "      <td>RAM</td>\n",
              "      <td>0.235203</td>\n",
              "    </tr>\n",
              "    <tr>\n",
              "      <th>1</th>\n",
              "      <td>priority</td>\n",
              "      <td>0.194116</td>\n",
              "    </tr>\n",
              "    <tr>\n",
              "      <th>2</th>\n",
              "      <td>CPUCore</td>\n",
              "      <td>0.163152</td>\n",
              "    </tr>\n",
              "    <tr>\n",
              "      <th>0</th>\n",
              "      <td>schedulingClass</td>\n",
              "      <td>0.060059</td>\n",
              "    </tr>\n",
              "    <tr>\n",
              "      <th>5</th>\n",
              "      <td>Constraint</td>\n",
              "      <td>0.011670</td>\n",
              "    </tr>\n",
              "  </tbody>\n",
              "</table>\n",
              "</div>"
            ],
            "text/plain": [
              "           feature     Score\n",
              "4             Disk  0.335801\n",
              "3              RAM  0.235203\n",
              "1         priority  0.194116\n",
              "2          CPUCore  0.163152\n",
              "0  schedulingClass  0.060059\n",
              "5       Constraint  0.011670"
            ]
          },
          "metadata": {
            "tags": []
          },
          "execution_count": 31
        }
      ]
    },
    {
      "cell_type": "code",
      "metadata": {
        "id": "KSfyoFBmEe6b",
        "colab_type": "code",
        "colab": {}
      },
      "source": [
        ""
      ],
      "execution_count": 0,
      "outputs": []
    },
    {
      "cell_type": "markdown",
      "metadata": {
        "id": "9OrL5q-hEpHT",
        "colab_type": "text"
      },
      "source": [
        "## Evaluation"
      ]
    },
    {
      "cell_type": "code",
      "metadata": {
        "id": "aO5vtVaJEokd",
        "colab_type": "code",
        "outputId": "01110f90-abc5-43b6-a8b7-59cae08e1b02",
        "colab": {
          "base_uri": "https://localhost:8080/",
          "height": 142
        }
      },
      "source": [
        "#confusion metrix\n",
        "res = clf_random.predict(X_test)\n",
        "pd.crosstab(y_test, res)"
      ],
      "execution_count": 0,
      "outputs": [
        {
          "output_type": "execute_result",
          "data": {
            "text/html": [
              "<div>\n",
              "<style scoped>\n",
              "    .dataframe tbody tr th:only-of-type {\n",
              "        vertical-align: middle;\n",
              "    }\n",
              "\n",
              "    .dataframe tbody tr th {\n",
              "        vertical-align: top;\n",
              "    }\n",
              "\n",
              "    .dataframe thead th {\n",
              "        text-align: right;\n",
              "    }\n",
              "</style>\n",
              "<table border=\"1\" class=\"dataframe\">\n",
              "  <thead>\n",
              "    <tr style=\"text-align: right;\">\n",
              "      <th>col_0</th>\n",
              "      <th>0</th>\n",
              "    </tr>\n",
              "    <tr>\n",
              "      <th>eventType</th>\n",
              "      <th></th>\n",
              "    </tr>\n",
              "  </thead>\n",
              "  <tbody>\n",
              "    <tr>\n",
              "      <th>0</th>\n",
              "      <td>136319</td>\n",
              "    </tr>\n",
              "    <tr>\n",
              "      <th>1</th>\n",
              "      <td>1336</td>\n",
              "    </tr>\n",
              "  </tbody>\n",
              "</table>\n",
              "</div>"
            ],
            "text/plain": [
              "col_0           0\n",
              "eventType        \n",
              "0          136319\n",
              "1            1336"
            ]
          },
          "metadata": {
            "tags": []
          },
          "execution_count": 32
        }
      ]
    },
    {
      "cell_type": "code",
      "metadata": {
        "id": "Cs1cOq2zE0LE",
        "colab_type": "code",
        "outputId": "c24e8eed-f197-4ad3-cfbe-9c220e6cf124",
        "colab": {
          "base_uri": "https://localhost:8080/",
          "height": 241
        }
      },
      "source": [
        "from sklearn.metrics import classification_report\n",
        "from sklearn.metrics import accuracy_score\n",
        "\n",
        "print(\"Accuracy:\\t %.3f\"%accuracy_score(y_test, res))\n",
        "print(classification_report(y_test, res))"
      ],
      "execution_count": 0,
      "outputs": [
        {
          "output_type": "stream",
          "text": [
            "Accuracy:\t 0.990\n",
            "              precision    recall  f1-score   support\n",
            "\n",
            "           0       0.99      1.00      1.00    136319\n",
            "           1       0.00      0.00      0.00      1336\n",
            "\n",
            "    accuracy                           0.99    137655\n",
            "   macro avg       0.50      0.50      0.50    137655\n",
            "weighted avg       0.98      0.99      0.99    137655\n",
            "\n"
          ],
          "name": "stdout"
        },
        {
          "output_type": "stream",
          "text": [
            "/usr/local/lib/python3.6/dist-packages/sklearn/metrics/classification.py:1437: UndefinedMetricWarning: Precision and F-score are ill-defined and being set to 0.0 in labels with no predicted samples.\n",
            "  'precision', 'predicted', average, warn_for)\n"
          ],
          "name": "stderr"
        }
      ]
    },
    {
      "cell_type": "markdown",
      "metadata": {
        "id": "uahXCq4LICoZ",
        "colab_type": "text"
      },
      "source": [
        "## Correlation"
      ]
    },
    {
      "cell_type": "code",
      "metadata": {
        "id": "tyJFy1bxIC3h",
        "colab_type": "code",
        "outputId": "a352f046-5245-45b2-b1e2-a10125c18320",
        "colab": {
          "base_uri": "https://localhost:8080/",
          "height": 266
        }
      },
      "source": [
        "corrs = df_ok.corr()\n",
        "corrs"
      ],
      "execution_count": 0,
      "outputs": [
        {
          "output_type": "execute_result",
          "data": {
            "text/html": [
              "<div>\n",
              "<style scoped>\n",
              "    .dataframe tbody tr th:only-of-type {\n",
              "        vertical-align: middle;\n",
              "    }\n",
              "\n",
              "    .dataframe tbody tr th {\n",
              "        vertical-align: top;\n",
              "    }\n",
              "\n",
              "    .dataframe thead th {\n",
              "        text-align: right;\n",
              "    }\n",
              "</style>\n",
              "<table border=\"1\" class=\"dataframe\">\n",
              "  <thead>\n",
              "    <tr style=\"text-align: right;\">\n",
              "      <th></th>\n",
              "      <th>eventType</th>\n",
              "      <th>schedulingClass</th>\n",
              "      <th>priority</th>\n",
              "      <th>CPUCore</th>\n",
              "      <th>RAM</th>\n",
              "      <th>Disk</th>\n",
              "      <th>Constraint</th>\n",
              "    </tr>\n",
              "  </thead>\n",
              "  <tbody>\n",
              "    <tr>\n",
              "      <th>eventType</th>\n",
              "      <td>1.000000</td>\n",
              "      <td>-0.058659</td>\n",
              "      <td>-0.032630</td>\n",
              "      <td>-0.033876</td>\n",
              "      <td>-0.003135</td>\n",
              "      <td>-0.056659</td>\n",
              "      <td>-0.053477</td>\n",
              "    </tr>\n",
              "    <tr>\n",
              "      <th>schedulingClass</th>\n",
              "      <td>-0.058659</td>\n",
              "      <td>1.000000</td>\n",
              "      <td>0.521971</td>\n",
              "      <td>0.336816</td>\n",
              "      <td>0.203673</td>\n",
              "      <td>-0.011974</td>\n",
              "      <td>-0.022165</td>\n",
              "    </tr>\n",
              "    <tr>\n",
              "      <th>priority</th>\n",
              "      <td>-0.032630</td>\n",
              "      <td>0.521971</td>\n",
              "      <td>1.000000</td>\n",
              "      <td>0.391239</td>\n",
              "      <td>0.310646</td>\n",
              "      <td>0.116261</td>\n",
              "      <td>0.232402</td>\n",
              "    </tr>\n",
              "    <tr>\n",
              "      <th>CPUCore</th>\n",
              "      <td>-0.033876</td>\n",
              "      <td>0.336816</td>\n",
              "      <td>0.391239</td>\n",
              "      <td>1.000000</td>\n",
              "      <td>0.471802</td>\n",
              "      <td>0.168441</td>\n",
              "      <td>0.105598</td>\n",
              "    </tr>\n",
              "    <tr>\n",
              "      <th>RAM</th>\n",
              "      <td>-0.003135</td>\n",
              "      <td>0.203673</td>\n",
              "      <td>0.310646</td>\n",
              "      <td>0.471802</td>\n",
              "      <td>1.000000</td>\n",
              "      <td>0.506760</td>\n",
              "      <td>0.201909</td>\n",
              "    </tr>\n",
              "    <tr>\n",
              "      <th>Disk</th>\n",
              "      <td>-0.056659</td>\n",
              "      <td>-0.011974</td>\n",
              "      <td>0.116261</td>\n",
              "      <td>0.168441</td>\n",
              "      <td>0.506760</td>\n",
              "      <td>1.000000</td>\n",
              "      <td>0.195243</td>\n",
              "    </tr>\n",
              "    <tr>\n",
              "      <th>Constraint</th>\n",
              "      <td>-0.053477</td>\n",
              "      <td>-0.022165</td>\n",
              "      <td>0.232402</td>\n",
              "      <td>0.105598</td>\n",
              "      <td>0.201909</td>\n",
              "      <td>0.195243</td>\n",
              "      <td>1.000000</td>\n",
              "    </tr>\n",
              "  </tbody>\n",
              "</table>\n",
              "</div>"
            ],
            "text/plain": [
              "                 eventType  schedulingClass  ...      Disk  Constraint\n",
              "eventType         1.000000        -0.058659  ... -0.056659   -0.053477\n",
              "schedulingClass  -0.058659         1.000000  ... -0.011974   -0.022165\n",
              "priority         -0.032630         0.521971  ...  0.116261    0.232402\n",
              "CPUCore          -0.033876         0.336816  ...  0.168441    0.105598\n",
              "RAM              -0.003135         0.203673  ...  0.506760    0.201909\n",
              "Disk             -0.056659        -0.011974  ...  1.000000    0.195243\n",
              "Constraint       -0.053477        -0.022165  ...  0.195243    1.000000\n",
              "\n",
              "[7 rows x 7 columns]"
            ]
          },
          "metadata": {
            "tags": []
          },
          "execution_count": 34
        }
      ]
    },
    {
      "cell_type": "code",
      "metadata": {
        "id": "DN87iwLmIEYK",
        "colab_type": "code",
        "outputId": "0252304e-3182-4d6f-ca8a-af312bf2e646",
        "colab": {
          "base_uri": "https://localhost:8080/",
          "height": 357
        }
      },
      "source": [
        "import seaborn as sns\n",
        "sns.heatmap(corrs)"
      ],
      "execution_count": 0,
      "outputs": [
        {
          "output_type": "execute_result",
          "data": {
            "text/plain": [
              "<matplotlib.axes._subplots.AxesSubplot at 0x7f784d713940>"
            ]
          },
          "metadata": {
            "tags": []
          },
          "execution_count": 35
        },
        {
          "output_type": "display_data",
          "data": {
            "image/png": "[encoded data removed]",
            "text/plain": [
              "<Figure size 432x288 with 2 Axes>"
            ]
          },
          "metadata": {
            "tags": []
          }
        }
      ]
    },
    {
      "cell_type": "markdown",
      "metadata": {
        "id": "ASMQYRiRN5Ye",
        "colab_type": "text"
      },
      "source": [
        "## Scaled Data & Train Data"
      ]
    },
    {
      "cell_type": "code",
      "metadata": {
        "id": "Wy3_GE9dN5n8",
        "colab_type": "code",
        "colab": {}
      },
      "source": [
        "from sklearn import preprocessing\n",
        "\n",
        "# standard_scaler = preprocessing.StandardScaler()\n",
        "# train_X_scaled_s = pd.DataFrame(standard_scaler.fit_transform(bankData_train_X), columns=bankData_train_X.columns)\n",
        "# test_X_scaled_s = pd.DataFrame(standard_scaler.fit_transform(bankData_test_X), columns=bankData_train_X.columns)\n",
        "\n",
        "min_max_scaler = preprocessing.MinMaxScaler()\n",
        "X_Train_Scaled = pd.DataFrame(min_max_scaler.fit_transform(X_train),columns=X_train.columns)\n",
        "X_Test_Scaled = pd.DataFrame(min_max_scaler.fit_transform(X_test),columns=X_train.columns)"
      ],
      "execution_count": 0,
      "outputs": []
    },
    {
      "cell_type": "code",
      "metadata": {
        "id": "IbtYO9gCN5wd",
        "colab_type": "code",
        "outputId": "9e7c1494-a559-4280-8525-7380e2ac3df4",
        "colab": {
          "base_uri": "https://localhost:8080/",
          "height": 275
        }
      },
      "source": [
        "clf_random = RandomForestClassifier(random_state=0)\n",
        "clf_random = clf_random.fit(X_Train_Scaled, y_train)\n",
        "\n",
        "#confusion metrix\n",
        "res = clf_random.predict(X_Test_Scaled)\n",
        "pd.crosstab(y_test, res)\n",
        "print(\"Accuracy:\\t %.3f\"%accuracy_score(y_test, res))\n",
        "print(classification_report(y_test, res))"
      ],
      "execution_count": 0,
      "outputs": [
        {
          "output_type": "stream",
          "text": [
            "/usr/local/lib/python3.6/dist-packages/sklearn/ensemble/forest.py:245: FutureWarning: The default value of n_estimators will change from 10 in version 0.20 to 100 in 0.22.\n",
            "  \"10 in version 0.20 to 100 in 0.22.\", FutureWarning)\n"
          ],
          "name": "stderr"
        },
        {
          "output_type": "stream",
          "text": [
            "Accuracy:\t 0.990\n",
            "              precision    recall  f1-score   support\n",
            "\n",
            "           0       0.99      1.00      1.00    136319\n",
            "           1       0.00      0.00      0.00      1336\n",
            "\n",
            "    accuracy                           0.99    137655\n",
            "   macro avg       0.50      0.50      0.50    137655\n",
            "weighted avg       0.98      0.99      0.99    137655\n",
            "\n"
          ],
          "name": "stdout"
        },
        {
          "output_type": "stream",
          "text": [
            "/usr/local/lib/python3.6/dist-packages/sklearn/metrics/classification.py:1437: UndefinedMetricWarning: Precision and F-score are ill-defined and being set to 0.0 in labels with no predicted samples.\n",
            "  'precision', 'predicted', average, warn_for)\n"
          ],
          "name": "stderr"
        }
      ]
    },
    {
      "cell_type": "markdown",
      "metadata": {
        "id": "g3DClpcdMLPf",
        "colab_type": "text"
      },
      "source": [
        "## DownSizing  Training Data"
      ]
    },
    {
      "cell_type": "code",
      "metadata": {
        "id": "DO5MYCJzfp7G",
        "colab_type": "code",
        "outputId": "c60d9fab-2c16-4ebc-f424-ae5d49f77135",
        "colab": {
          "base_uri": "https://localhost:8080/",
          "height": 51
        }
      },
      "source": [
        "df_ok[df_ok.eventType == 0].eventType.value_counts()"
      ],
      "execution_count": 0,
      "outputs": [
        {
          "output_type": "execute_result",
          "data": {
            "text/plain": [
              "0    681649\n",
              "Name: eventType, dtype: int64"
            ]
          },
          "metadata": {
            "tags": []
          },
          "execution_count": 38
        }
      ]
    },
    {
      "cell_type": "code",
      "metadata": {
        "id": "sK3UzYxxf_c7",
        "colab_type": "code",
        "outputId": "1d3b75e0-28ec-45bd-f224-191e362cf5cc",
        "colab": {
          "base_uri": "https://localhost:8080/",
          "height": 51
        }
      },
      "source": [
        "df_ok[df_ok.eventType == 1].eventType.value_counts()"
      ],
      "execution_count": 0,
      "outputs": [
        {
          "output_type": "execute_result",
          "data": {
            "text/plain": [
              "1    6624\n",
              "Name: eventType, dtype: int64"
            ]
          },
          "metadata": {
            "tags": []
          },
          "execution_count": 39
        }
      ]
    },
    {
      "cell_type": "code",
      "metadata": {
        "id": "ejlHhOUHgFPl",
        "colab_type": "code",
        "outputId": "ec4c4933-f46f-4d84-9fa1-8ff9c7a617c0",
        "colab": {
          "base_uri": "https://localhost:8080/",
          "height": 34
        }
      },
      "source": [
        "df_success = df_ok[df_ok.eventType == 0]\n",
        "\n",
        "df_success.shape\n",
        "df_s_7000 = df_success.sample(n=7000)\n",
        "#df_s_7000 = df_success.iloc[0:7000,]\n",
        "df_s_7000.shape"
      ],
      "execution_count": 0,
      "outputs": [
        {
          "output_type": "execute_result",
          "data": {
            "text/plain": [
              "(7000, 7)"
            ]
          },
          "metadata": {
            "tags": []
          },
          "execution_count": 40
        }
      ]
    },
    {
      "cell_type": "code",
      "metadata": {
        "id": "XGLpgTCCg4T9",
        "colab_type": "code",
        "outputId": "c2ba2285-af75-4f3d-a9c2-c09244361cfe",
        "colab": {
          "base_uri": "https://localhost:8080/",
          "height": 34
        }
      },
      "source": [
        "df_downSmapling =  pd.concat([df_s_7000,df_ok[df_ok.eventType == 1]],ignore_index=True)\n",
        "\n",
        "\n",
        "df_downSmapling.shape\n"
      ],
      "execution_count": 0,
      "outputs": [
        {
          "output_type": "execute_result",
          "data": {
            "text/plain": [
              "(13624, 7)"
            ]
          },
          "metadata": {
            "tags": []
          },
          "execution_count": 41
        }
      ]
    },
    {
      "cell_type": "code",
      "metadata": {
        "id": "XoyQWM7mILjC",
        "colab_type": "code",
        "outputId": "786ec00a-a4eb-4b67-f5be-401069a04db0",
        "colab": {
          "base_uri": "https://localhost:8080/",
          "height": 51
        }
      },
      "source": [
        "from sklearn.model_selection import train_test_split\n",
        "y = df_downSmapling['eventType']\n",
        "X = df_downSmapling.drop(columns='eventType')\n",
        "X_train, X_test, y_train, y_test = train_test_split(X,y,test_size=0.4)\n",
        "X_train.head()\n",
        "\n",
        "print(\"Train:\",X_train.shape,\",\",y_train.shape)\n",
        "\n",
        "print(\"Test:\",X_test.shape)"
      ],
      "execution_count": 0,
      "outputs": [
        {
          "output_type": "stream",
          "text": [
            "Train: (8174, 6) , (8174,)\n",
            "Test: (5450, 6)\n"
          ],
          "name": "stdout"
        }
      ]
    },
    {
      "cell_type": "markdown",
      "metadata": {
        "id": "lb0JUgF6lpCC",
        "colab_type": "text"
      },
      "source": [
        "## Train with Random Forest"
      ]
    },
    {
      "cell_type": "code",
      "metadata": {
        "id": "clbtQj8Zkz5r",
        "colab_type": "code",
        "outputId": "9ce7b81e-100d-4a52-d79b-785086a3a194",
        "colab": {
          "base_uri": "https://localhost:8080/",
          "height": 196
        }
      },
      "source": [
        "clf_random = RandomForestClassifier(random_state=0)\n",
        "clf_random = clf_random.fit(X_train, y_train)\n",
        "\n",
        "#confusion metrix\n",
        "res = clf_random.predict(X_test)\n",
        "pd.crosstab(y_test, res)\n"
      ],
      "execution_count": 0,
      "outputs": [
        {
          "output_type": "stream",
          "text": [
            "/usr/local/lib/python3.6/dist-packages/sklearn/ensemble/forest.py:245: FutureWarning: The default value of n_estimators will change from 10 in version 0.20 to 100 in 0.22.\n",
            "  \"10 in version 0.20 to 100 in 0.22.\", FutureWarning)\n"
          ],
          "name": "stderr"
        },
        {
          "output_type": "execute_result",
          "data": {
            "text/html": [
              "<div>\n",
              "<style scoped>\n",
              "    .dataframe tbody tr th:only-of-type {\n",
              "        vertical-align: middle;\n",
              "    }\n",
              "\n",
              "    .dataframe tbody tr th {\n",
              "        vertical-align: top;\n",
              "    }\n",
              "\n",
              "    .dataframe thead th {\n",
              "        text-align: right;\n",
              "    }\n",
              "</style>\n",
              "<table border=\"1\" class=\"dataframe\">\n",
              "  <thead>\n",
              "    <tr style=\"text-align: right;\">\n",
              "      <th>col_0</th>\n",
              "      <th>0</th>\n",
              "      <th>1</th>\n",
              "    </tr>\n",
              "    <tr>\n",
              "      <th>eventType</th>\n",
              "      <th></th>\n",
              "      <th></th>\n",
              "    </tr>\n",
              "  </thead>\n",
              "  <tbody>\n",
              "    <tr>\n",
              "      <th>0</th>\n",
              "      <td>2516</td>\n",
              "      <td>286</td>\n",
              "    </tr>\n",
              "    <tr>\n",
              "      <th>1</th>\n",
              "      <td>95</td>\n",
              "      <td>2553</td>\n",
              "    </tr>\n",
              "  </tbody>\n",
              "</table>\n",
              "</div>"
            ],
            "text/plain": [
              "col_0         0     1\n",
              "eventType            \n",
              "0          2516   286\n",
              "1            95  2553"
            ]
          },
          "metadata": {
            "tags": []
          },
          "execution_count": 43
        }
      ]
    },
    {
      "cell_type": "code",
      "metadata": {
        "id": "7v26heWHlbgd",
        "colab_type": "code",
        "outputId": "a4630785-9df6-412f-f696-7f5061f2bc27",
        "colab": {
          "base_uri": "https://localhost:8080/",
          "height": 187
        }
      },
      "source": [
        "print(\"Accuracy:\\t %.3f\"%accuracy_score(y_test, res))\n",
        "print(classification_report(y_test, res))"
      ],
      "execution_count": 0,
      "outputs": [
        {
          "output_type": "stream",
          "text": [
            "Accuracy:\t 0.930\n",
            "              precision    recall  f1-score   support\n",
            "\n",
            "           0       0.96      0.90      0.93      2802\n",
            "           1       0.90      0.96      0.93      2648\n",
            "\n",
            "    accuracy                           0.93      5450\n",
            "   macro avg       0.93      0.93      0.93      5450\n",
            "weighted avg       0.93      0.93      0.93      5450\n",
            "\n"
          ],
          "name": "stdout"
        }
      ]
    },
    {
      "cell_type": "code",
      "metadata": {
        "id": "xZecDSJKl2Eq",
        "colab_type": "code",
        "outputId": "ca6053f7-1548-4c4c-b816-f3d7dfc962d9",
        "colab": {
          "base_uri": "https://localhost:8080/",
          "height": 357
        }
      },
      "source": [
        "corrs = df_ok.corr()\n",
        "sns.heatmap(corrs)"
      ],
      "execution_count": 0,
      "outputs": [
        {
          "output_type": "execute_result",
          "data": {
            "text/plain": [
              "<matplotlib.axes._subplots.AxesSubplot at 0x7f7849b7dfd0>"
            ]
          },
          "metadata": {
            "tags": []
          },
          "execution_count": 45
        },
        {
          "output_type": "display_data",
          "data": {
            "image/png": "[encoded data removed]",
            "text/plain": [
              "<Figure size 432x288 with 2 Axes>"
            ]
          },
          "metadata": {
            "tags": []
          }
        }
      ]
    },
    {
      "cell_type": "code",
      "metadata": {
        "id": "96bli8IzmTPC",
        "colab_type": "code",
        "colab": {}
      },
      "source": [
        ""
      ],
      "execution_count": 0,
      "outputs": []
    }
  ]
}